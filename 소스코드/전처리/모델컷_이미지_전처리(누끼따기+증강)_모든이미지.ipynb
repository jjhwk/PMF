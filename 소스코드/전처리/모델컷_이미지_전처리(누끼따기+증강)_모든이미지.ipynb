{
 "cells": [
  {
   "cell_type": "code",
   "execution_count": 1,
   "id": "6179d55a",
   "metadata": {},
   "outputs": [
    {
     "name": "stderr",
     "output_type": "stream",
     "text": [
      "C:\\ProgramData\\anaconda3\\Lib\\site-packages\\paramiko\\transport.py:219: CryptographyDeprecationWarning: Blowfish has been deprecated\n",
      "  \"class\": algorithms.Blowfish,\n"
     ]
    }
   ],
   "source": [
    "# 누끼따기\n",
    "import os\n",
    "from PIL import Image\n",
    "from rembg import remove"
   ]
  },
  {
   "cell_type": "code",
   "execution_count": 7,
   "id": "08681065",
   "metadata": {},
   "outputs": [],
   "source": [
    "# 이미지 증강\n",
    "import cv2\n",
    "import numpy as np\n",
    "import os\n",
    "from PIL import Image\n",
    "import splitfolders\n",
    "import matplotlib.pyplot as plt"
   ]
  },
  {
   "cell_type": "code",
   "execution_count": 8,
   "id": "a993501c",
   "metadata": {},
   "outputs": [],
   "source": [
    "# 이미지 이동\n",
    "import os\n",
    "import random\n",
    "from PIL import Image, ImageEnhance\n",
    "import numpy as np"
   ]
  },
  {
   "cell_type": "markdown",
   "id": "27359b04",
   "metadata": {},
   "source": [
    "#  원본 전체 데이터 누끼 따기(여자)"
   ]
  },
  {
   "cell_type": "code",
   "execution_count": 3,
   "id": "751a7f63",
   "metadata": {
    "scrolled": true
   },
   "outputs": [
    {
     "name": "stdout",
     "output_type": "stream",
     "text": [
      "Error processing ./image(원본)/women/casual\\casual_1173.jpg: image file is truncated (104 bytes not processed)\n",
      "casual의 모든 이미지를 변환했습니다.\n",
      "chic의 모든 이미지를 변환했습니다.\n",
      "formal의 모든 이미지를 변환했습니다.\n",
      "girlish의 모든 이미지를 변환했습니다.\n",
      "gorpcore의 모든 이미지를 변환했습니다.\n",
      "romantic의 모든 이미지를 변환했습니다.\n",
      "sports의 모든 이미지를 변환했습니다.\n",
      "street의 모든 이미지를 변환했습니다.\n",
      "모든 이미지를 변환했습니다.\n"
     ]
    }
   ],
   "source": [
    "# 입력 및 출력 폴더 경로 설정\n",
    "style_list = [\"casual\",\"chic\",\"formal\",\"girlish\",\"gorpcore\", \"romantic\", \"sports\", \"street\"]\n",
    "image_path = './image(원본)/women/'\n",
    "\n",
    "# 이미지 파일 읽어오기\n",
    "for style in style_list:\n",
    "    input_folder = os.path.join(image_path, style) # 파일 경로를 생성\n",
    "    output_folder = f'./image_nuggi(누끼)/women/{style}'\n",
    "    img_list = os.listdir(input_folder)\n",
    "    \n",
    "    \n",
    "    \n",
    "    for img_name in img_list:\n",
    "        if img_name.endswith(('.png', '.jpg', '.jpeg')):  # 이미지 파일 형식 필터링\n",
    "                input_file = os.path.join(input_folder, img_name)\n",
    "                output_file = os.path.join(output_folder, img_name)\n",
    "                \n",
    "                try :\n",
    "                    # 이미지 열기\n",
    "                    with Image.open(input_file) as img:\n",
    "                        # 이미지 배경 제거\n",
    "                        out = remove(img)\n",
    "                        out = out.convert(\"RGB\")\n",
    "\n",
    "\n",
    "                    # 출력 폴더가 없으면 생성\n",
    "                    if not os.path.exists(output_folder):\n",
    "                        os.makedirs(output_folder)\n",
    "\n",
    "\n",
    "                    # 변환된 이미지 저장\n",
    "                    out.save(output_file)\n",
    "                    \n",
    "                except Exception as e:\n",
    "                    print(f\"Error processing {input_file}: {e}\")\n",
    "                \n",
    "    print(f\"{style}의 모든 이미지를 변환했습니다.\")\n",
    "\n",
    "print(\"모든 이미지를 변환했습니다.\")"
   ]
  },
  {
   "cell_type": "markdown",
   "id": "84a23a6b",
   "metadata": {},
   "source": [
    "# 이미지 증강"
   ]
  },
  {
   "cell_type": "markdown",
   "id": "c50d6009",
   "metadata": {},
   "source": [
    "## 이미지 좌우 반전"
   ]
  },
  {
   "cell_type": "code",
   "execution_count": 7,
   "id": "8bfc0670",
   "metadata": {},
   "outputs": [],
   "source": [
    "# style_list = [\"american\", \"chic\", \"gorpcore\"] # 데이터가 적은 아메카지, 시크, 골프, 고프코어 만 진행\n",
    "style_list = [\"gorpcore\", \"sports\"]\n",
    "image_path = './image_nuggi(누끼)/women/'\n",
    "img_list_np = []\n",
    "\n",
    "# 이미지 파일 읽어오기\n",
    "for style in style_list:\n",
    "    path = os.path.join(image_path, style) # 파일 경로를 생성\n",
    "    img_list = os.listdir(path)\n",
    "    img_list = img_list[:1000]  # 각 항목별로 1000개만 사용\n",
    "    output_folder = f\"./precl_image(누끼)/women/{style}/\"\n",
    "    \n",
    "    # 출력 폴더가 없으면 생성\n",
    "    if not os.path.exists(output_folder):\n",
    "        os.makedirs(output_folder)\n",
    "    \n",
    "    for img_name in img_list:\n",
    "        img_path = os.path.join(path, img_name) # 파일 경로를 생성 플랫폼 독립적으로 경로를 처리\n",
    "        img = Image.open(img_path)\n",
    "        flip_img = img.transpose(Image.FLIP_LEFT_RIGHT) # 이미지 좌우 반전\n",
    "        new_image_path = f\"./precl_image(누끼)/women/{style}/flip_{img_name}\"\n",
    "        flip_img.save(new_image_path)"
   ]
  },
  {
   "cell_type": "markdown",
   "id": "2df0661e",
   "metadata": {},
   "source": [
    "## 적은 데이터 이미지 x축 이동"
   ]
  },
  {
   "cell_type": "code",
   "execution_count": 11,
   "id": "ed33e3d9",
   "metadata": {},
   "outputs": [],
   "source": [
    "style_list = [\"gorpcore\", \"sports\"]\n",
    "\n",
    "image_path = './precl_image(누끼)/women/'\n",
    "\n",
    "# 이미지 파일 읽어오기\n",
    "for style in style_list:\n",
    "    path = os.path.join(image_path, style) # 파일 경로를 생성\n",
    "    img_list = os.listdir(path)\n",
    "    \n",
    "    # 랜덤하게 1000개 가져오기\n",
    "    if len(img_list) <= 1000:\n",
    "        selected_img_list = img_list  # 이미지 개수가 1000개 이하면 모든 이미지 선택\n",
    "    else:\n",
    "        random.shuffle(img_list)  # 이미지 리스트를 섞음\n",
    "        selected_img_list = img_list[:1000]  # 섞은 리스트 중에서 첫 1000개 선택\n",
    "    \n",
    "    output_folder = f\"./precl_image(누끼)/women/{style}/\"\n",
    "    # 출력 폴더가 없으면 생성\n",
    "    output_folder = f\"./precl_image(누끼)/women/{style}/\"\n",
    "    if not os.path.exists(output_folder):\n",
    "        os.makedirs(output_folder)\n",
    "    \n",
    "    for img_name in selected_img_list:\n",
    "        img_path = os.path.join(path, img_name) # 파일 경로를 생성 플랫폼 독립적으로 경로를 처리\n",
    "        img = Image.open(img_path)\n",
    "\n",
    "        # 작은 이동 (Small Translation) 적용\n",
    "        translation_x = np.random.choice([-150, 150]) # -150 또는 150 픽셀 임의의 값\n",
    "        translation_y = np.random.randint(-1, 1) # -1에서 1 픽셀 사이의 임의의 값\n",
    "\n",
    "        img_translated = img.transform(\n",
    "            img.size,     # 원래 이미지 사이즈 유지\n",
    "            Image.AFFINE, # 아핀 변환: 이미지의 위치, 크기, 방향 등을 변형할 수 있는 선형 변환\n",
    "            (1, 0, translation_x, 0, 1, translation_y) #  x축의 스케일링(a), 기울기(b), 평행 이동(c)\n",
    "        )                                              # y축의 기울기(d), 스케일링(e), 평행 이동(f)\n",
    "\n",
    "        # 이동된 이미지를 저장\n",
    "        new_image_path = f\"./precl_image(누끼)/women/{style}/translated_{img_name}\"\n",
    "        img_translated.save(new_image_path)\n"
   ]
  },
  {
   "cell_type": "markdown",
   "id": "54d67a27",
   "metadata": {},
   "source": [
    "## 데이터 많은 컬럼 랜덤하게 1000 개 가져오기"
   ]
  },
  {
   "cell_type": "code",
   "execution_count": 12,
   "id": "94fec68d",
   "metadata": {},
   "outputs": [],
   "source": [
    "# [\"casual\",\"chic\",\"formal\",\"girlish\",\"gorpcore\", \"romantic\", \"sports\", \"street\"]\n",
    "style_list = [\"casual\",\"chic\",\"formal\",\"girlish\",\"gorpcore\", \"romantic\", \"sports\", \"street\"]\n",
    "image_path = './image_nuggi(누끼)/women/'\n",
    "\n",
    "# 이미지 파일 읽어오기\n",
    "for style in style_list:\n",
    "    path = os.path.join(image_path, style) # 파일 경로를 생성\n",
    "    img_list = os.listdir(path)\n",
    "    \n",
    "    if len(img_list) <= 1000:\n",
    "        selected_img_list = img_list  # 이미지 개수가 1000개 이하면 모든 이미지 선택\n",
    "    else:\n",
    "        random.shuffle(img_list)  # 이미지 리스트를 섞음\n",
    "        selected_img_list = img_list[:1000]  # 섞은 리스트 중에서 첫 1000개 선택\n",
    "    \n",
    "    # 출력 폴더가 없으면 생성\n",
    "    output_folder = f\"./precl_image(누끼)/women/{style}/\"\n",
    "    if not os.path.exists(output_folder):\n",
    "        os.makedirs(output_folder)\n",
    "    \n",
    "    for img_name in selected_img_list:\n",
    "        img_path = os.path.join(path, img_name) # 파일 경로를 생성 플랫폼 독립적으로 경로를 처리\n",
    "        img = Image.open(img_path) \n",
    "        \n",
    "        # 이동된 이미지를 저장\n",
    "        new_image_path = f\"./precl_image(누끼)/women/{style}/{img_name}\"\n",
    "        img.save(new_image_path)\n"
   ]
  },
  {
   "cell_type": "markdown",
   "id": "1eb48353",
   "metadata": {},
   "source": [
    "## 이미지 많은 컬럼 x축 이동"
   ]
  },
  {
   "cell_type": "code",
   "execution_count": 13,
   "id": "a3444002",
   "metadata": {},
   "outputs": [],
   "source": [
    "style_list = [\"casual\",\"chic\",\"formal\",\"girlish\",\"gorpcore\", \"romantic\", \"sports\", \"street\"]\n",
    "\n",
    "image_path = './precl_image(누끼)/women/'\n",
    "\n",
    "# 이미지 파일 읽어오기\n",
    "for style in style_list:\n",
    "    path = os.path.join(image_path, style) # 파일 경로를 생성\n",
    "    img_list = os.listdir(path)\n",
    "    \n",
    "    # 랜덤하게 1000개 가져오기\n",
    "    if len(img_list) <= 1000:\n",
    "        selected_img_list = img_list  # 이미지 개수가 1000개 이하면 모든 이미지 선택\n",
    "    else:\n",
    "        random.shuffle(img_list)  # 이미지 리스트를 섞음\n",
    "        selected_img_list = img_list[:1000]  # 섞은 리스트 중에서 첫 1000개 선택\n",
    "    \n",
    "\n",
    "    # 출력 폴더가 없으면 생성\n",
    "    output_folder = f\"./precl_image(누끼)/women/{style}/\"\n",
    "    if not os.path.exists(output_folder):\n",
    "        os.makedirs(output_folder)\n",
    "    \n",
    "    for img_name in selected_img_list:\n",
    "        img_path = os.path.join(path, img_name) # 파일 경로를 생성 플랫폼 독립적으로 경로를 처리\n",
    "        img = Image.open(img_path)\n",
    "\n",
    "        # 작은 이동 (Small Translation) 적용\n",
    "        translation_x = np.random.choice([-150, 150]) # -150 또는 150 픽셀 임의의 값\n",
    "        translation_y = np.random.randint(-1, 1) # -1에서 1 픽셀 사이의 임의의 값\n",
    "\n",
    "        img_translated = img.transform(\n",
    "            img.size,     # 원래 이미지 사이즈 유지\n",
    "            Image.AFFINE, # 아핀 변환: 이미지의 위치, 크기, 방향 등을 변형할 수 있는 선형 변환\n",
    "            (1, 0, translation_x, 0, 1, translation_y) #  x축의 스케일링(a), 기울기(b), 평행 이동(c)\n",
    "        )                                              # y축의 기울기(d), 스케일링(e), 평행 이동(f)\n",
    "\n",
    "        # 이동된 이미지를 저장\n",
    "        new_image_path = f\"./precl_image(누끼)/women/{style}/translated_{img_name}\"\n",
    "        img_translated.save(new_image_path)\n"
   ]
  },
  {
   "cell_type": "markdown",
   "id": "4e1e11a0",
   "metadata": {},
   "source": [
    "## 모든데이터 1000개로 추리기"
   ]
  },
  {
   "cell_type": "code",
   "execution_count": 4,
   "id": "c028d01c",
   "metadata": {},
   "outputs": [],
   "source": [
    "style_list = [\"casual\",\"chic\",\"formal\",\"girlish\",\"gorpcore\", \"romantic\", \"sports\", \"street\"]\n",
    "image_path = './precl_image(누끼)/women/'\n",
    "\n",
    "# 이미지 파일 읽어오기\n",
    "for style in style_list:\n",
    "    path = os.path.join(image_path, style) # 파일 경로를 생성\n",
    "    img_list = os.listdir(path)\n",
    "    \n",
    "    if len(img_list) <= 1000:\n",
    "        selected_img_list = img_list  # 이미지 개수가 1000개 이하면 모든 이미지 선택\n",
    "    else:\n",
    "        random.shuffle(img_list)  # 이미지 리스트를 섞음\n",
    "        selected_img_list = img_list[:1000]  # 섞은 리스트 중에서 첫 1000개 선택\n",
    "    \n",
    "    \n",
    "    for img_name in selected_img_list:\n",
    "        img_path = os.path.join(path, img_name) # 파일 경로를 생성 플랫폼 독립적으로 경로를 처리\n",
    "        img = Image.open(img_path) \n",
    "        \n",
    "        # 이동된 이미지를 저장\n",
    "        new_image_path = f\"./precl_train_image(누끼)/women/{style}/\"\n",
    "        \n",
    "        # 출력 폴더가 없으면 생성\n",
    "        if not os.path.exists(new_image_path):\n",
    "            os.makedirs(new_image_path)\n",
    "        new_image = f\"./precl_train_image(누끼)/women/{style}/{img_name}\"\n",
    "        \n",
    "        img.save(new_image)"
   ]
  },
  {
   "cell_type": "markdown",
   "id": "6f7ef54d",
   "metadata": {},
   "source": [
    "# Train_test_split"
   ]
  },
  {
   "cell_type": "code",
   "execution_count": 5,
   "id": "b0b8a4fb",
   "metadata": {},
   "outputs": [
    {
     "name": "stderr",
     "output_type": "stream",
     "text": [
      "Copying files: 7426 files [00:33, 219.22 files/s]\n"
     ]
    }
   ],
   "source": [
    "splitfolders.ratio(input=\"./precl_train_image(누끼)/women/\", output=\"img_train_test(누끼)/women\", seed=777, ratio=(.8, .1, .1))"
   ]
  },
  {
   "cell_type": "code",
   "execution_count": null,
   "id": "8f5135f0",
   "metadata": {},
   "outputs": [],
   "source": [
    "# 모델 학습을 위해 데이터 train test val 데이터 셋으로 분할"
   ]
  }
 ],
 "metadata": {
  "kernelspec": {
   "display_name": "Python 3 (ipykernel)",
   "language": "python",
   "name": "python3"
  },
  "language_info": {
   "codemirror_mode": {
    "name": "ipython",
    "version": 3
   },
   "file_extension": ".py",
   "mimetype": "text/x-python",
   "name": "python",
   "nbconvert_exporter": "python",
   "pygments_lexer": "ipython3",
   "version": "3.11.5"
  }
 },
 "nbformat": 4,
 "nbformat_minor": 5
}
